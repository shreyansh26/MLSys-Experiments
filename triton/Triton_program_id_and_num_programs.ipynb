{
  "nbformat": 4,
  "nbformat_minor": 0,
  "metadata": {
    "colab": {
      "provenance": [],
      "gpuType": "T4"
    },
    "kernelspec": {
      "name": "python3",
      "display_name": "Python 3"
    },
    "language_info": {
      "name": "python"
    },
    "accelerator": "GPU"
  },
  "cells": [
    {
      "cell_type": "code",
      "source": [
        "!ldconfig /usr/lib64-nvidia\n",
        "!ldconfig -p | grep libcud"
      ],
      "metadata": {
        "colab": {
          "base_uri": "https://localhost:8080/"
        },
        "id": "jWiMpM8T6JDH",
        "outputId": "343584fc-2406-4093-8288-9a384430ef2f"
      },
      "execution_count": 1,
      "outputs": [
        {
          "output_type": "stream",
          "name": "stdout",
          "text": [
            "/sbin/ldconfig.real: /usr/local/lib/libtbbbind_2_0.so.3 is not a symbolic link\n",
            "\n",
            "/sbin/ldconfig.real: /usr/local/lib/libtbb.so.12 is not a symbolic link\n",
            "\n",
            "/sbin/ldconfig.real: /usr/local/lib/libtbbmalloc.so.2 is not a symbolic link\n",
            "\n",
            "/sbin/ldconfig.real: /usr/local/lib/libtbbbind.so.3 is not a symbolic link\n",
            "\n",
            "/sbin/ldconfig.real: /usr/local/lib/libtbbmalloc_proxy.so.2 is not a symbolic link\n",
            "\n",
            "/sbin/ldconfig.real: /usr/local/lib/libtbbbind_2_5.so.3 is not a symbolic link\n",
            "\n",
            "\tlibcudnn_ops_train.so.8 (libc6,x86-64) => /lib/x86_64-linux-gnu/libcudnn_ops_train.so.8\n",
            "\tlibcudnn_ops_train.so (libc6,x86-64) => /lib/x86_64-linux-gnu/libcudnn_ops_train.so\n",
            "\tlibcudnn_ops_infer.so.8 (libc6,x86-64) => /lib/x86_64-linux-gnu/libcudnn_ops_infer.so.8\n",
            "\tlibcudnn_ops_infer.so (libc6,x86-64) => /lib/x86_64-linux-gnu/libcudnn_ops_infer.so\n",
            "\tlibcudnn_cnn_train.so.8 (libc6,x86-64) => /lib/x86_64-linux-gnu/libcudnn_cnn_train.so.8\n",
            "\tlibcudnn_cnn_train.so (libc6,x86-64) => /lib/x86_64-linux-gnu/libcudnn_cnn_train.so\n",
            "\tlibcudnn_cnn_infer.so.8 (libc6,x86-64) => /lib/x86_64-linux-gnu/libcudnn_cnn_infer.so.8\n",
            "\tlibcudnn_cnn_infer.so (libc6,x86-64) => /lib/x86_64-linux-gnu/libcudnn_cnn_infer.so\n",
            "\tlibcudnn_adv_train.so.8 (libc6,x86-64) => /lib/x86_64-linux-gnu/libcudnn_adv_train.so.8\n",
            "\tlibcudnn_adv_train.so (libc6,x86-64) => /lib/x86_64-linux-gnu/libcudnn_adv_train.so\n",
            "\tlibcudnn_adv_infer.so.8 (libc6,x86-64) => /lib/x86_64-linux-gnu/libcudnn_adv_infer.so.8\n",
            "\tlibcudnn_adv_infer.so (libc6,x86-64) => /lib/x86_64-linux-gnu/libcudnn_adv_infer.so\n",
            "\tlibcudnn.so.8 (libc6,x86-64) => /lib/x86_64-linux-gnu/libcudnn.so.8\n",
            "\tlibcudnn.so (libc6,x86-64) => /lib/x86_64-linux-gnu/libcudnn.so\n",
            "\tlibcudart.so.12 (libc6,x86-64) => /usr/local/cuda/targets/x86_64-linux/lib/libcudart.so.12\n",
            "\tlibcudart.so (libc6,x86-64) => /usr/local/cuda/targets/x86_64-linux/lib/libcudart.so\n",
            "\tlibcudadebugger.so.1 (libc6,x86-64) => /usr/lib64-nvidia/libcudadebugger.so.1\n",
            "\tlibcuda.so.1 (libc6,x86-64) => /usr/lib64-nvidia/libcuda.so.1\n",
            "\tlibcuda.so (libc6,x86-64) => /usr/lib64-nvidia/libcuda.so\n"
          ]
        }
      ]
    },
    {
      "cell_type": "code",
      "execution_count": 4,
      "metadata": {
        "id": "Uv9j2-3E5tqX"
      },
      "outputs": [],
      "source": [
        "import triton\n",
        "import triton.language as tl\n",
        "import torch\n",
        "\n",
        "\n",
        "@triton.jit\n",
        "def dummy_kernel(\n",
        "    A,\n",
        "    B,\n",
        "    B_stride\n",
        "):\n",
        "    a = tl.num_programs(axis=0)\n",
        "    b = tl.num_programs(axis=1)\n",
        "    c = tl.num_programs(axis=2)\n",
        "\n",
        "    id0 = tl.program_id(axis=0)\n",
        "    id1 = tl.program_id(axis=1)\n",
        "    id2 = tl.program_id(axis=2)\n",
        "\n",
        "    # store num_programs in A\n",
        "    tl.store(A+0, a)\n",
        "    tl.store(A+1, b)\n",
        "    tl.store(A+2, c)\n",
        "\n",
        "    # store prograrm_id in B\n",
        "    prg_index = id0 * (b * c) + id1 * c + id2\n",
        "    B_base = B + B_stride * prg_index\n",
        "\n",
        "    tl.store(B_base+0, id0)\n",
        "    tl.store(B_base+1, id1)\n",
        "    tl.store(B_base+2, id2)\n"
      ]
    },
    {
      "cell_type": "code",
      "source": [
        "torch.manual_seed(42)\n",
        "\n",
        "grid = (4, 3, 2)\n",
        "A = torch.zeros(len(grid), dtype=torch.float32, device=\"cuda\")\n",
        "B = torch.zeros(24, len(grid), dtype=torch.float32, device=\"cuda\")\n",
        "\n",
        "print(B.stride(0))"
      ],
      "metadata": {
        "colab": {
          "base_uri": "https://localhost:8080/"
        },
        "id": "N9c1yg4y56JL",
        "outputId": "340a1e35-abf4-4e06-d644-eeb35df782d0"
      },
      "execution_count": 3,
      "outputs": [
        {
          "output_type": "stream",
          "name": "stdout",
          "text": [
            "3\n"
          ]
        }
      ]
    },
    {
      "cell_type": "code",
      "source": [
        "C = torch.zeros(grid, dtype=torch.float32, device=\"cuda\")\n",
        "print(C.stride(0))"
      ],
      "metadata": {
        "colab": {
          "base_uri": "https://localhost:8080/"
        },
        "id": "n0q7OP-3965T",
        "outputId": "d882766e-6104-4e02-8e43-9f3646e502c0"
      },
      "execution_count": 7,
      "outputs": [
        {
          "output_type": "stream",
          "name": "stdout",
          "text": [
            "6\n"
          ]
        }
      ]
    },
    {
      "cell_type": "code",
      "source": [
        "dummy_kernel[grid](A, B, B.stride(0))\n",
        "torch.cuda.synchronize()\n",
        "\n",
        "print(\"program_ids\", B)\n",
        "print(\"num_programs\", A)"
      ],
      "metadata": {
        "colab": {
          "base_uri": "https://localhost:8080/"
        },
        "id": "xyI4jXS87I7k",
        "outputId": "58bc55ab-db23-438c-88ee-a5d854c1abf0"
      },
      "execution_count": 5,
      "outputs": [
        {
          "output_type": "stream",
          "name": "stdout",
          "text": [
            "program_ids tensor([[0., 0., 0.],\n",
            "        [0., 0., 1.],\n",
            "        [0., 1., 0.],\n",
            "        [0., 1., 1.],\n",
            "        [0., 2., 0.],\n",
            "        [0., 2., 1.],\n",
            "        [1., 0., 0.],\n",
            "        [1., 0., 1.],\n",
            "        [1., 1., 0.],\n",
            "        [1., 1., 1.],\n",
            "        [1., 2., 0.],\n",
            "        [1., 2., 1.],\n",
            "        [2., 0., 0.],\n",
            "        [2., 0., 1.],\n",
            "        [2., 1., 0.],\n",
            "        [2., 1., 1.],\n",
            "        [2., 2., 0.],\n",
            "        [2., 2., 1.],\n",
            "        [3., 0., 0.],\n",
            "        [3., 0., 1.],\n",
            "        [3., 1., 0.],\n",
            "        [3., 1., 1.],\n",
            "        [3., 2., 0.],\n",
            "        [3., 2., 1.]], device='cuda:0')\n",
            "num_programs tensor([4., 3., 2.], device='cuda:0')\n"
          ]
        }
      ]
    },
    {
      "cell_type": "code",
      "source": [],
      "metadata": {
        "id": "IqK4pfa07eU6"
      },
      "execution_count": null,
      "outputs": []
    }
  ]
}